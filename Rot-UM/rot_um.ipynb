{
 "cells": [
  {
   "cell_type": "code",
   "execution_count": 2,
   "metadata": {},
   "outputs": [],
   "source": [
    "import os\n",
    "import torch\n",
    "import torch.nn as nn\n",
    "import torch.nn.functional as F\n",
    "import numpy as np\n",
    "import matplotlib.pyplot as plt \n",
    "import time\n",
    "from torch.utils import data\n",
    "import warnings\n",
    "from train import train_epoch, eval_epoch, test_epoch, Dataset\n",
    "\n",
    "warnings.filterwarnings(\"ignore\")\n",
    "device = torch.device(\"cuda\" if torch.cuda.is_available() else \"cpu\")\n",
    "# os.environ[\"CUDA_DEVICE_ORDER\"]=\"PCI_BUS_ID\"\n",
    "# os.environ[\"CUDA_VISIBLE_DEVICES\"]=\"0,1,2,3,4,5,6,7\"\n",
    "basis = torch.load(\"kernel_basis.pt\")\n",
    "train_direc = \"/global/cscratch1/sd/roseyu/Eliza/TF-net/Data/data_64/sample_\"\n",
    "img_direc = \"/global/cscratch1/sd/roseyu/Eliza/Img\""
   ]
  },
  {
   "cell_type": "markdown",
   "metadata": {},
   "source": [
    "# Rot (+ UM)\n",
    "- [x] test for equivariance: check UM and Rot eq\n",
    "- [ ] train on untransformed, test on UM, Rot, UM + Rot\n",
    "- [ ] train on random UM + Rot, test on UM + Rot (same dataset)\n",
    "- [ ] how to generate UM + Rot dataset: add UM (diff vec - selected from a circle) for u and v), then Rot \n",
    "- [ ] rmse only on the 64 * 64 (check vs all)"
   ]
  },
  {
   "cell_type": "code",
   "execution_count": 3,
   "metadata": {},
   "outputs": [],
   "source": [
    "class Ani_layer(nn.Module):\n",
    "    def __init__(self, input_channels, output_channels, kernel_size, um_dim = 2, activation = False):\n",
    "        super(Ani_layer, self).__init__()\n",
    "        self.output_channels = output_channels\n",
    "        self.input_channels = input_channels\n",
    "        self.activation = activation\n",
    "        self.kernel_size = kernel_size\n",
    "        self.um_dim = um_dim\n",
    "        self.radius = (kernel_size - 1)//2\n",
    "        self.pad_size = (kernel_size - 1)//2\n",
    "        self.num_weights = self.radius*4\n",
    "        self.basis = basis[:self.num_weights, :, 15-self.radius:self.radius-15, 15-self.radius:self.radius-15]\n",
    "        self.params = self.init_params()  \n",
    "        \n",
    "        self.bias_term = nn.Parameter(torch.ones(1, self.output_channels, 2, 1, 1)/100)\n",
    "        \n",
    "        initial_kernel = torch.einsum(\"abcd, cdefgh -> abcdefgh\",  (self.params, self.basis))\n",
    "        stds = torch.std(initial_kernel[initial_kernel != 0.0])\n",
    "        \n",
    "        #print(torch.std(initial_kernel, dim = (0,1,4,5,6,7)))\n",
    "        \n",
    "        self.scaler = np.sqrt(0.6/(np.sqrt(input_channels) * self.kernel_size**2 * stds))\n",
    "        \n",
    "        self.params = nn.Parameter(self.params * self.scaler)#.unsqueeze(0).unsqueeze(0).unsqueeze(-1))\n",
    "        self.basis = self.basis * self.scaler#.unsqueeze(-1).unsqueeze(-1).unsqueeze(-1)\n",
    "        \n",
    "        self.b = nn.Parameter(torch.tensor(0.01))\n",
    "        \n",
    "        self.initial_params = self.params.clone()\n",
    "        self.initial_kernel = torch.einsum(\"abcd, cdefgh -> abefgh\",  (self.params, self.basis)).clone()\n",
    "        \n",
    "    def init_params(self):\n",
    "        return torch.randn((self.output_channels, self.input_channels, self.num_weights, 4))\n",
    "    \n",
    "    \n",
    "    def get_kernel(self, params, basis):\n",
    "        # Compute Kernel: Kernel shape (output_channels, input_channels, kernel_size, kernel_size, 2, 2) \n",
    "        kernel = torch.einsum(\"abcd, cdefgh -> abefgh\",  (self.params, self.basis.to(device)))\n",
    "        \n",
    "        # Reshape\n",
    "        kernel = kernel.transpose(-2, -3).transpose(-3, -4).transpose(-4, -5)       \n",
    "        kernel = kernel.reshape(kernel.shape[0]*2,  kernel.shape[2], self.kernel_size, self.kernel_size, 2)\n",
    "        kernel = kernel.transpose(-1, -2).transpose(-2, -3)\n",
    "        kernel = kernel.reshape(kernel.shape[0], kernel.shape[1]*2, self.kernel_size, self.kernel_size)\n",
    "\n",
    "        return kernel\n",
    "    \n",
    "    def unfold(self, xx):\n",
    "        out = F.pad(xx, ((self.pad_size, self.pad_size)*2), mode='replicate')\n",
    "        out = F.unfold(out, kernel_size = self.kernel_size)\n",
    "        out = out.reshape(out.shape[0], self.input_channels * self.um_dim, self.kernel_size, self.kernel_size, out.shape[-1])\n",
    "        out = out.reshape(out.shape[0], self.input_channels * self.um_dim, self.kernel_size, self.kernel_size, xx.shape[-2], xx.shape[-1])\n",
    "        return out\n",
    "    \n",
    "    def subtract_mean(self, xx):\n",
    "        out = xx.reshape(xx.shape[0], self.input_channels, self.um_dim, self.kernel_size, self.kernel_size, xx.shape[-2], xx.shape[-1])\n",
    "        avgs = out.mean((1,3,4), keepdim=True)\n",
    "        out -= avgs\n",
    "        out = out.reshape(out.shape[0], self.input_channels * self.um_dim, self.kernel_size, self.kernel_size, xx.shape[-2], xx.shape[-1]).transpose(2,4).transpose(-1,-2)\n",
    "        out = out.reshape(out.shape[0], self.input_channels * self.um_dim, xx.shape[-2]*self.kernel_size, xx.shape[-1], self.kernel_size)\n",
    "        out = out.reshape(out.shape[0], self.input_channels * self.um_dim, xx.shape[-2]*self.kernel_size, xx.shape[-1]*self.kernel_size)\n",
    "        return out, avgs.squeeze(3).squeeze(3)\n",
    "    \n",
    "    \n",
    "    def add_mean(self, out, avgs):\n",
    "        out += avgs\n",
    "        out = out.reshape(out.shape[0], -1, out.shape[-2], out.shape[-1])\n",
    "        return out\n",
    "    \n",
    "    def forward(self, xx, add_mean = True):       \n",
    "        kernel = self.get_kernel(self.params, self.basis)\n",
    "        \n",
    "        xx = self.unfold(xx)\n",
    "        xx, avgs = self.subtract_mean(xx)\n",
    "\n",
    "        # Conv2d\n",
    "        out = F.conv2d(xx, kernel, stride = self.kernel_size) #, bias = self.bias_term\n",
    "        out = out.reshape(out.shape[0], out.shape[1]//2, 2, out.shape[-2], out.shape[-1])\n",
    "        out += self.bias_term\n",
    "        \n",
    "        # Activation Function\n",
    "        if self.activation:\n",
    "#             print(\"***\")\n",
    "            if self.activation == \"sin\":\n",
    "                norm = torch.sqrt(out[:,:,0,:,:]**2 + out[:,:,1,:,:]**2).unsqueeze(2)\n",
    "                out = out*torch.sin(norm)**2/norm\n",
    "\n",
    "            elif self.activation == \"relu\":\n",
    "                norm = torch.sqrt(out[:,:,0,:,:]**2 + out[:,:,1,:,:]**2).unsqueeze(2).repeat(1,1,2,1,1) \n",
    "                out = out/norm\n",
    "                norm2 = norm - self.b\n",
    "                out[norm2 <= 0.] = 0.    \n",
    "\n",
    "            elif self.activation == \"leakyrelu\":\n",
    "                norm = torch.sqrt(out[:,:,0,:,:]**2 + out[:,:,1,:,:]**2).unsqueeze(2).repeat(1,1,2,1,1) \n",
    "                out = out/norm\n",
    "                norm2 = norm - self.b\n",
    "                out[norm2 <= 0.] = out[norm2 <= 0.]*0.1\n",
    "\n",
    "            elif self.activation == \"squash\":\n",
    "                norm = torch.sqrt(out[:,:,0,:,:]**2 + out[:,:,1,:,:]**2).unsqueeze(2)\n",
    "                out = out/norm*(norm**2/(norm**2+1))\n",
    "        if add_mean:\n",
    "            out = self.add_mean(out, avgs)\n",
    "        return out\n",
    "    \n",
    "class rot_um_cnn(nn.Module):\n",
    "    def __init__(self, input_channels, output_channels, hidden_dim, num_layers, kernel_size, activation = False):\n",
    "        super(rot_um_cnn, self).__init__()\n",
    "        layers = [Ani_layer(input_channels, hidden_dim, kernel_size, activation=activation)] + \\\n",
    "                 [Ani_layer(hidden_dim, hidden_dim, kernel_size, activation=activation) for i in range(num_layers - 2)] + \\\n",
    "                 [Ani_layer(hidden_dim, output_channels, kernel_size)]\n",
    "        self.layers = nn.Sequential(*layers)\n",
    "\n",
    "    def forward(self, xx):\n",
    "        return self.layers(xx)"
   ]
  },
  {
   "cell_type": "code",
   "execution_count": 4,
   "metadata": {},
   "outputs": [],
   "source": [
    "kernel_size = 3\n",
    "hidden_dim = 128\n",
    "num_layers = 2\n",
    "learning_rate = 0.0001\n",
    "input_length = 7\n",
    "output_length = 1\n",
    "batch_size = 2\n",
    "\n",
    "train_indices = list(range(0, 10))\n",
    "valid_indices = list(range(10, 15))\n",
    "\n",
    "\n",
    "train_set = Dataset(train_indices, input_length, 40, output_length, train_direc, True)\n",
    "valid_set = Dataset(valid_indices, input_length, 40, 6, train_direc, True)\n",
    "train_loader = data.DataLoader(train_set, batch_size = batch_size, shuffle = True)\n",
    "valid_loader = data.DataLoader(valid_set, batch_size = batch_size, shuffle = False)"
   ]
  },
  {
   "cell_type": "code",
   "execution_count": null,
   "metadata": {},
   "outputs": [
    {
     "name": "stdout",
     "output_type": "stream",
     "text": [
      "Initializing...\n",
      "Done\n",
      "0.45499 0.23064\n",
      "0.35117 0.20917\n",
      "0.31847 0.2038\n",
      "0.29326 0.19755\n",
      "0.28208 0.26512\n",
      "0.26847 0.20759\n",
      "0.25997 0.19623\n",
      "0.25325 0.2\n",
      "0.24776 0.19901\n",
      "0.24332 0.20173\n",
      "0.24004 0.19109\n",
      "0.23738 0.19692\n",
      "0.23547 0.19403\n",
      "0.23323 0.20832\n",
      "0.23142 0.20033\n",
      "0.23005 0.20123\n",
      "0.22853 0.21602\n",
      "0.22727 0.20135\n",
      "0.22624 0.19841\n",
      "0.2254 0.20558\n",
      "0.22448 0.20963\n",
      "0.22377 0.19834\n"
     ]
    }
   ],
   "source": [
    "print(\"Initializing...\")\n",
    "model = rot_um_cnn(activation = \"relu\", input_channels = input_length, hidden_dim = hidden_dim, num_layers = num_layers, output_channels = 1, kernel_size = kernel_size).to(device)#\n",
    "print(\"Done\")\n",
    "\n",
    "optimizer = torch.optim.Adam(model.parameters(), learning_rate,betas=(0.9, 0.999), weight_decay=4e-4)\n",
    "scheduler = torch.optim.lr_scheduler.StepLR(optimizer, step_size= 1, gamma=0.9)\n",
    "loss_fun = torch.nn.MSELoss()\n",
    "\n",
    "train_mse = []\n",
    "valid_mse = []\n",
    "test_mse = []\n",
    "min_mse = 1\n",
    "for i in range(30):\n",
    "    start = time.time()\n",
    "    scheduler.step()\n",
    "\n",
    "    model.train()\n",
    "    train_mse.append(train_epoch(train_loader, model, optimizer, loss_fun))\n",
    "    model.eval()\n",
    "    _, preds, trues = eval_epoch(train_loader, model, loss_fun)\n",
    "    \n",
    "    \n",
    "    mse, preds, trues = eval_epoch(valid_loader, model, loss_fun)\n",
    "    valid_mse.append(mse)\n",
    "\n",
    "    if train_mse[-1] < min_mse:\n",
    "        min_mse = train_mse[-1] \n",
    "        cnn_preds = preds\n",
    "        cnn_trues = trues\n",
    "        \n",
    "        #torch.save(model, \"model.pth\")\n",
    "    end = time.time()\n",
    "    print(train_mse[-1], round((end-start)/60,5))#, valid_mse[-1]"
   ]
  },
  {
   "cell_type": "code",
   "execution_count": null,
   "metadata": {},
   "outputs": [],
   "source": [
    "idx = 0\n",
    "direc = 0\n",
    "step = 0\n",
    "fig=plt.figure(figsize=(10, 4))\n",
    "plt.subplot(1, 2, 1)\n",
    "plt.imshow(cnn_trues[idx,step,direc])\n",
    "plt.title(\"Target\")\n",
    "plt.colorbar()\n",
    "plt.subplot(1, 2, 2)\n",
    "plt.imshow(cnn_preds[idx,step,direc])\n",
    "plt.title(\"Prediction\")\n",
    "plt.colorbar()\n",
    "plt.show()\n",
    "fig.savefig(img_direc + '/rot_um_target_pred', bbox_inches='tight')"
   ]
  },
  {
   "cell_type": "code",
   "execution_count": null,
   "metadata": {},
   "outputs": [],
   "source": [
    "# Rot\n",
    "fig=plt.figure(figsize=(10, 4))\n",
    "initial_kernel = model.layers[0].initial_kernel.cpu().data.numpy()\n",
    "trained_kernel = torch.einsum(\"abcd, cdefgh -> abefgh\",  (model.layers[0].params, model.layers[0].basis.to(device))).cpu().data.numpy()\n",
    "\n",
    "plt.subplot(1, 2, 1)\n",
    "plt.hist(initial_kernel[:,0,:,:,0,0].flatten(), bins = 30)\n",
    "plt.subplot(1, 2, 2)\n",
    "plt.hist(trained_kernel[:,0,:,:,0,0].flatten(), bins = 30)\n",
    "#plt.xlim(-0.5, 0.5)\n",
    "plt.show()"
   ]
  },
  {
   "cell_type": "code",
   "execution_count": null,
   "metadata": {},
   "outputs": [],
   "source": [
    "# resnet = torch.load(\"/global/cscratch1/sd/roseyu/Eliza/Rot-UM/results.pt\")"
   ]
  },
  {
   "cell_type": "code",
   "execution_count": null,
   "metadata": {},
   "outputs": [],
   "source": [
    "# plt.imshow(resnet[\"preds\"][0,0,0])\n",
    "# plt.colorbar()"
   ]
  },
  {
   "cell_type": "code",
   "execution_count": null,
   "metadata": {},
   "outputs": [],
   "source": [
    "# plt.imshow(resnet[\"trues\"][0,0,0])\n",
    "# plt.colorbar()"
   ]
  },
  {
   "cell_type": "markdown",
   "metadata": {},
   "source": [
    "## Rotationaly symmetric test"
   ]
  },
  {
   "cell_type": "code",
   "execution_count": null,
   "metadata": {},
   "outputs": [],
   "source": [
    "import torchvision.transforms.functional as TF\n",
    "from torchvision import transforms\n",
    "PIL = transforms.ToPILImage()\n",
    "TTen = transforms.ToTensor()\n",
    "from PIL import Image\n",
    "\n",
    "\n",
    "def normalize(tensor):\n",
    "    return (tensor - torch.min(tensor))/(torch.max(tensor) - torch.min(tensor))\n",
    "\n",
    "def rotate(img, degree):\n",
    "    #img shape 2*128*128\n",
    "    #2*2 2*1*128*128 -> 2*1*128*128\n",
    "    theta = torch.tensor(degree/180*np.pi)\n",
    "    rot_m = torch.tensor([[torch.cos(theta), -torch.sin(theta)], [torch.sin(theta), torch.cos(theta)]])\n",
    "    img = torch.einsum(\"ab, bcde -> acde\",(rot_m, img.unsqueeze(1))).squeeze(1)\n",
    "    mmin = torch.min(img)\n",
    "    mmax = torch.max(img)\n",
    "    img = normalize(img).data.numpy()\n",
    "    x = TTen(TF.rotate(Image.fromarray(np.uint8(img[0]*255)),degree, expand =  True))\n",
    "    y = TTen(TF.rotate(Image.fromarray(np.uint8(img[1]*255)),degree, expand =  True))\n",
    "    rot_img = torch.cat([x, y], dim = 0)\n",
    "    rot_img[rot_img!=0] = normalize(rot_img[rot_img!=0])\n",
    "    rot_img[rot_img!=0] = rot_img[rot_img!=0]*(mmax - mmin) + mmin\n",
    "    return rot_img\n",
    "\n",
    "train_direc = \"/global/cscratch1/sd/roseyu/Eliza/TF-net/Data/data_128/sample_\"\n",
    "input_length = 2\n",
    "output_length = 3\n",
    "batch_size = 1\n",
    "train_indices = list(range(0, 1))\n",
    "train_set = Dataset(train_indices, input_length, 40, output_length, train_direc, True)\n",
    "train_loader = data.DataLoader(train_set, batch_size = batch_size, shuffle = True)\n",
    "for xx, yy in train_loader:\n",
    "    break  "
   ]
  },
  {
   "cell_type": "code",
   "execution_count": null,
   "metadata": {},
   "outputs": [],
   "source": [
    "torch.manual_seed(10)\n",
    "degree = 90\n",
    "\n",
    "# model = Ani_layer(input_channels = 1, output_channels = 1, kernel_size = 7).to(device)\n",
    "model = rot_um_cnn(input_channels = 2, output_channels = 1, hidden_dim = 128, num_layers = 4, kernel_size = 7, activation = \"tanh\").to(device)\n",
    "\n",
    "rot_xx = torch.cat([rotate(xx[0,:2], degree).unsqueeze(0), rotate(xx[0,-2:], degree).unsqueeze(0)] , dim = 1)#rotate(xx[0,0], degree).unsqueeze(0)\n",
    "\n",
    "rot_xx_out = model(rot_xx.to(device))\n",
    "              \n",
    "xx_out_rot = rotate((rot_xx_out[0]).cpu(), -degree)"
   ]
  },
  {
   "cell_type": "code",
   "execution_count": null,
   "metadata": {},
   "outputs": [],
   "source": [
    "xx_out = model(xx.to(device))\n",
    "\n",
    "rot_xx = torch.cat([rotate(xx[0,:2], degree).unsqueeze(0), rotate(xx[0,-2:], degree).unsqueeze(0)] , dim = 1)#rotate(xx[0,0], degree).unsqueeze(0)\n",
    "\n",
    "rot_xx_out = model(rot_xx.to(device))\n",
    "                \n",
    "xx_out_rot = rotate((rot_xx_out[0]).cpu(), -degree)\n",
    "\n",
    "direc = 0\n",
    "fig=plt.figure(figsize=(18, 10))\n",
    "plt.subplot(2, 3, 1)\n",
    "plt.imshow(xx[0,direc].cpu().data.numpy())\n",
    "plt.title(r\"$X$\", size = 15)\n",
    "plt.colorbar()\n",
    "\n",
    "plt.subplot(2, 3, 3)\n",
    "plt.imshow(xx_out[0,direc].cpu().data.numpy())\n",
    "plt.title(r\"$F(X)$\", size = 15)\n",
    "plt.colorbar()\n",
    "\n",
    "plt.subplot(2, 3, 4)\n",
    "plt.imshow(rot_xx[0, direc].cpu().data.numpy())\n",
    "plt.title(r\"$rot(X)$\", size = 15)\n",
    "plt.colorbar()\n",
    "\n",
    "plt.subplot(2, 3, 5)\n",
    "plt.imshow(rot_xx_out[0,direc].cpu().data.numpy())\n",
    "plt.title(r\"$F(rot(X))$\", size = 15)\n",
    "plt.colorbar()\n",
    "\n",
    "plt.subplot(2, 3, 6)\n",
    "plt.imshow(xx_out_rot[direc].cpu().data.numpy())\n",
    "plt.title(r\"$rot^{-1}(F(rot(X)))$\", size = 15)\n",
    "plt.colorbar()\n",
    "\n",
    "plt.suptitle(\"Conv2d\", size = 30)\n",
    "\n",
    "plt.show()\n",
    "fig.savefig(img_direc + '/rot_um_conv2d_rot', bbox_inches='tight')"
   ]
  },
  {
   "cell_type": "code",
   "execution_count": null,
   "metadata": {},
   "outputs": [],
   "source": [
    "def uniform_motion(img, unit_vector):\n",
    "    return img + torch.FloatTensor(unit_vector).repeat(img.shape[1]//2, img.shape[-1]**2).view(img.shape)\n",
    "\n",
    "rot_um_xx = uniform_motion(rot_xx, um_vector)\n",
    "plt.imshow(rot_um_xx[0, direc].cpu().data.numpy())\n",
    "plt.title(r\"$um(rot(X))$\", size = 15)\n",
    "plt.colorbar()"
   ]
  },
  {
   "cell_type": "code",
   "execution_count": null,
   "metadata": {},
   "outputs": [],
   "source": [
    "def rmse(y, y_hat):\n",
    "    \"\"\"Compute root mean squared error\"\"\"\n",
    "    return torch.sqrt(torch.mean((y - y_hat).pow(2)))\n",
    "\n",
    "def mse(y, y_hat):\n",
    "    \"\"\"Compute mean squared error\"\"\"\n",
    "    return torch.mean((y - y_hat).pow(2))\n",
    "\n",
    "xx_out_sample = xx_out[0,direc].cpu()\n",
    "xx_out_rot_sample = xx_out_rot[direc].cpu()\n",
    "print(rmse(xx_out_sample, xx_out_rot_sample))\n",
    "print(mse(xx_out_sample, xx_out_rot_sample))"
   ]
  },
  {
   "cell_type": "code",
   "execution_count": null,
   "metadata": {},
   "outputs": [],
   "source": [
    "plt.hist(xx_out_rot[direc].cpu().data.numpy().flatten())"
   ]
  },
  {
   "cell_type": "code",
   "execution_count": null,
   "metadata": {},
   "outputs": [],
   "source": [
    "plt.hist(xx_out[0,direc].cpu().data.numpy().flatten())"
   ]
  },
  {
   "cell_type": "markdown",
   "metadata": {},
   "source": [
    "## UM symmetric test"
   ]
  },
  {
   "cell_type": "code",
   "execution_count": null,
   "metadata": {},
   "outputs": [],
   "source": [
    "def sample_spherical(npoints, ndim=3):\n",
    "    vec = np.random.randn(ndim, npoints)\n",
    "    vec /= np.linalg.norm(vec, axis=0)\n",
    "    return vec"
   ]
  },
  {
   "cell_type": "code",
   "execution_count": null,
   "metadata": {},
   "outputs": [],
   "source": [
    "from mpl_toolkits.mplot3d import axes3d\n",
    "\n",
    "phi = np.linspace(0, np.pi, 20)\n",
    "theta = np.linspace(0, 2 * np.pi, 40)\n",
    "x = np.outer(np.sin(theta), np.cos(phi))\n",
    "y = np.outer(np.sin(theta), np.sin(phi))\n",
    "z = np.outer(np.cos(theta), np.ones_like(phi))\n",
    "\n",
    "xi, yi, zi = sample_spherical(100)\n",
    "\n",
    "fig = plt.figure(figsize=plt.figaspect(1)*2) #Adjusts the aspect ratio and enlarges the figure (text does not enlarge)\n",
    "ax = fig.gca(projection='3d')\n",
    "ax.plot_wireframe(x, y, z, colors='gray', linewidths=0.5, rstride=1, cstride=1)\n",
    "ax.scatter(xi, yi, zi, s=100, c='salmon', zorder=10)\n",
    "\n",
    "plt.show()\n",
    "# fig.savefig(img_direc + '/sample_spherical', bbox_inches='tight')"
   ]
  },
  {
   "cell_type": "code",
   "execution_count": null,
   "metadata": {},
   "outputs": [],
   "source": [
    "fig = plt.figure(figsize=plt.figaspect(1)*2)\n",
    "ax = fig.add_subplot(1, 1, 1)\n",
    "\n",
    "circ = plt.Circle((0, 0), radius=1, edgecolor='gray', facecolor='None')\n",
    "ax.add_patch(circ)\n",
    "\n",
    "xj, yj = sample_spherical(50, 2)\n",
    "ax.scatter(xj, yj, s=100, c='salmon', zorder=10)\n",
    "\n",
    "ax.set_facecolor('#f5f5f5')\n",
    "plt.grid(b=None, which='major', axis='both')\n",
    "plt.show()\n",
    "# fig.savefig(img_direc + '/sample_cyclical', bbox_inches='tight')"
   ]
  },
  {
   "cell_type": "code",
   "execution_count": null,
   "metadata": {},
   "outputs": [],
   "source": [
    "def normalize(tensor):\n",
    "    return (tensor - torch.min(tensor))/(torch.max(tensor) - torch.min(tensor))\n",
    "\n",
    "def uniform_motion(img, unit_vector):\n",
    "    return img + torch.FloatTensor(unit_vector).repeat(img.shape[1]//2, img.shape[-1]**2).view(img.shape)\n",
    "\n",
    "train_direc = \"/global/cscratch1/sd/roseyu/Eliza/TF-net/Data/data_128/sample_\"\n",
    "input_length = 2\n",
    "output_length = 3\n",
    "batch_size = 1\n",
    "train_indices = list(range(0, 1))\n",
    "train_set = Dataset(train_indices, input_length, 40, output_length, train_direc, True)\n",
    "train_loader = data.DataLoader(train_set, batch_size = batch_size, shuffle = True)\n",
    "for xx, yy in train_loader:\n",
    "    break  "
   ]
  },
  {
   "cell_type": "code",
   "execution_count": null,
   "metadata": {},
   "outputs": [],
   "source": [
    "torch.manual_seed(10)\n",
    "um_vector = sample_spherical(1, 2)\n",
    "\n",
    "# model = Ani_layer(input_channels = 1, output_channels = 1, kernel_size = 7).to(device)\n",
    "model = rot_um_cnn(input_channels = 2, output_channels = 1, hidden_dim = 128, num_layers = 4, kernel_size = 7, activation = \"tanh\").to(device)\n",
    "\n",
    "um_xx = uniform_motion(xx, um_vector)\n",
    "\n",
    "um_xx_out = model(um_xx.to(device))\n",
    "\n",
    "xx_out_um = uniform_motion((um_xx_out).cpu(), -um_vector)"
   ]
  },
  {
   "cell_type": "code",
   "execution_count": null,
   "metadata": {},
   "outputs": [],
   "source": [
    "xx_out = model(xx.to(device))\n",
    "\n",
    "um_xx = uniform_motion(xx, um_vector)\n",
    "\n",
    "um_xx_out = model(um_xx.to(device))\n",
    "\n",
    "xx_out_um = uniform_motion((um_xx_out).cpu(), -um_vector)\n",
    "\n",
    "direc = 0\n",
    "fig=plt.figure(figsize=(18, 10))\n",
    "plt.subplot(2, 3, 1)\n",
    "plt.imshow(xx[0,direc].cpu().data.numpy())\n",
    "plt.title(r\"$X$\", size = 15)\n",
    "plt.colorbar()\n",
    "\n",
    "plt.subplot(2, 3, 3)\n",
    "plt.imshow(xx_out[0,direc].cpu().data.numpy())\n",
    "plt.title(r\"$F(X)$\", size = 15)\n",
    "plt.colorbar()\n",
    "\n",
    "plt.subplot(2, 3, 4)\n",
    "plt.imshow(um_xx[0, direc].cpu().data.numpy())\n",
    "plt.title(r\"$um(X)$\", size = 15)\n",
    "plt.colorbar()\n",
    "\n",
    "plt.subplot(2, 3, 5)\n",
    "plt.imshow(um_xx_out[0,direc].cpu().data.numpy())\n",
    "plt.title(r\"$F(um(X))$\", size = 15)\n",
    "plt.colorbar()\n",
    "\n",
    "plt.subplot(2, 3, 6)\n",
    "plt.imshow(xx_out_um[0, direc].cpu().data.numpy())\n",
    "plt.title(r\"$um^{-1}(F(um(X)))$\", size = 15)\n",
    "plt.colorbar()\n",
    "\n",
    "plt.suptitle(\"Conv2d\", size = 30)\n",
    "\n",
    "plt.show()\n",
    "fig.savefig(img_direc + '/rot_um_conv2d_um', bbox_inches='tight')"
   ]
  },
  {
   "cell_type": "code",
   "execution_count": null,
   "metadata": {},
   "outputs": [],
   "source": [
    "def rmse(y, y_hat):\n",
    "    \"\"\"Compute root mean squared error\"\"\"\n",
    "    return torch.sqrt(torch.mean((y - y_hat).pow(2)))\n",
    "\n",
    "def mse(y, y_hat):\n",
    "    \"\"\"Compute root mean squared error\"\"\"\n",
    "    return torch.mean((y - y_hat).pow(2))\n",
    "\n",
    "xx_out_sample = xx_out[0,direc].cpu()\n",
    "xx_out_um_sample = xx_out_um[0, direc].cpu()\n",
    "print(rmse(xx_out_sample, xx_out_um_sample))\n",
    "print(mse(xx_out_sample, xx_out_um_sample))"
   ]
  },
  {
   "cell_type": "code",
   "execution_count": null,
   "metadata": {},
   "outputs": [],
   "source": [
    "plt.hist(xx_out_rot[direc].cpu().data.numpy().flatten())"
   ]
  },
  {
   "cell_type": "code",
   "execution_count": null,
   "metadata": {},
   "outputs": [],
   "source": [
    "plt.hist(xx_out[0,direc].cpu().data.numpy().flatten())"
   ]
  },
  {
   "cell_type": "markdown",
   "metadata": {},
   "source": [
    "## Ani_layer2"
   ]
  },
  {
   "cell_type": "code",
   "execution_count": 49,
   "metadata": {},
   "outputs": [],
   "source": [
    "# class Ani_layer2(nn.Module):\n",
    "#     def __init__(self, input_channels, output_channels, kernel_size, activation = False):\n",
    "#         super(Ani_layer2, self).__init__()\n",
    "#         self.output_channels = output_channels\n",
    "#         self.input_channels = input_channels\n",
    "#         self.activation = activation\n",
    "#         self.kernel_size = kernel_size\n",
    "#         self.radius = (kernel_size - 1)//2\n",
    "#         self.pad_size = (kernel_size - 1)//2\n",
    "#         self.basis = basis[:self.radius, :, 15-self.radius:self.radius-15, 15-self.radius:self.radius-15]\n",
    "        \n",
    "#         self.params = self.init_params()\n",
    "#         scaler = np.sqrt(0.6/(np.sqrt(input_channels)*self.kernel_size**2*torch.std(torch.einsum(\"abcd, cdefgh -> abefgh\",  (self.params, self.basis)))))\n",
    "#         self.params = nn.Parameter(self.params*scaler)\n",
    "#         self.basis = self.basis*scaler\n",
    "#         #print(self.params[0,0,0,0])\n",
    "#     def init_params(self):\n",
    "#         return torch.randn((self.output_channels, self.input_channels, self.radius, 4))\n",
    "    \n",
    "#     def input_reshape(self, xx):\n",
    "#         out= F.unfold(xx, kernel_size = self.kernel_size).transpose(1,2)\n",
    "        \n",
    "#         out = out.reshape(xx.shape[0], xx.shape[-2]-2*self.pad_size, xx.shape[-1]-2*self.pad_size, -1)\n",
    "        \n",
    "#         out = out.reshape(xx.shape[0], xx.shape[-2]-2*self.pad_size, xx.shape[-1]-2*self.pad_size, self.input_channels*2, self.kernel_size, self.kernel_size)\n",
    "        \n",
    "#         out = out.reshape(xx.shape[0], xx.shape[-2]-2*self.pad_size, xx.shape[-1]-2*self.pad_size, self.input_channels, 2, self.kernel_size, self.kernel_size)\n",
    "        \n",
    "#         out = out.transpose(-2,-3).transpose(-1,-2).unsqueeze(-1)\n",
    "       \n",
    "#         return out\n",
    "    \n",
    "#     def forward(self, xx):\n",
    "#         #kernel shape: (output_channels, input_channels, kernel_size, kernel_size, 2, 2)\n",
    "        \n",
    "#         kernel = torch.einsum(\"abcd, cdefgh -> abefgh\",  (self.params, self.basis.to(device)))\n",
    "        \n",
    "#         # Padding\n",
    "#         inp_xx = F.pad(xx, (self.pad_size, self.pad_size, self.pad_size, self.pad_size))\n",
    "        \n",
    "#         # Unfold & Reshape\n",
    "#         inp_xx  = self.input_reshape(inp_xx)\n",
    "     \n",
    "#         # Output Tensor\n",
    "        \n",
    "#         #print(inp_xx.shape, kernel.shape)\n",
    "#         output = torch.einsum(\"abcdefgh, xdefyg-> axbcyh\", (inp_xx, kernel)).squeeze(-1).transpose(-1,-2).transpose(-2,-3)\n",
    "#         #print(output.shape)\n",
    "#         if self.activation:\n",
    "#             norm = torch.sqrt(output[:,:,0,:,:]**2 + output[:,:,1,:,:]**2).unsqueeze(-1)\n",
    "#             output = output*torch.tanh(norm)/norm\n",
    "#             output = output.reshape(xx.shape[0], self.output_channels*2, xx.shape[-2], xx.shape[-1])\n",
    "#         else:\n",
    "#             output = output.reshape(xx.shape[0], self.output_channels*2, xx.shape[-2], xx.shape[-1])\n",
    "        \n",
    "#         return output"
   ]
  },
  {
   "cell_type": "code",
   "execution_count": 50,
   "metadata": {},
   "outputs": [],
   "source": [
    "# torch.manual_seed(10)\n",
    "# degree = 90\n",
    "\n",
    "# model = Ani_layer2(input_channels = 1, output_channels = 1, kernel_size = 7).to(device)\n",
    "\n",
    "# print(xx.shape)\n",
    "# xx_out = model(xx.reshape(xx.shape[0], -1, xx.shape[-2], xx.shape[-1]).to(device))\n",
    "\n",
    "# rot_xx = rotate(xx[0,0], degree)\n",
    "\n",
    "# rot_xx_out = model(rot_xx.unsqueeze(0).to(device))\n",
    "                \n",
    "# xx_out_rot = rotate((rot_xx_out[0]).cpu(), -degree)\n",
    "\n",
    "# fig=plt.figure(figsize=(18, 10))\n",
    "# plt.subplot(2, 3, 1)\n",
    "# plt.imshow(xx[0,0,1].cpu().data.numpy())\n",
    "# plt.title(r\"$X$\", size = 15)\n",
    "# plt.colorbar()\n",
    "\n",
    "# plt.subplot(2, 3, 3)\n",
    "# plt.imshow(xx_out[0,1].cpu().data.numpy())\n",
    "# plt.title(r\"$F(X)$\", size = 15\n",
    "# plt.colorbar()\n",
    "\n",
    "# plt.subplot(2, 3, 4)\n",
    "# plt.imshow(rot_xx[1].cpu().data.numpy())\n",
    "# plt.title(r\"$rot(X)$\", size = 15)\n",
    "# plt.colorbar()\n",
    "\n",
    "# plt.subplot(2, 3, 5)\n",
    "# plt.imshow(rot_xx_out[0,1].cpu().data.numpy())\n",
    "# plt.title(r\"$F(rot(X))$\", size = 15)\n",
    "# plt.colorbar()\n",
    "\n",
    "# plt.subplot(2, 3, 6)\n",
    "# plt.imshow(xx_out_rot[1].cpu().data.numpy())\n",
    "# plt.title(r\"$rot^{-1}(F(rot(X)))$\", size = 15)\n",
    "# plt.colorbar()\n",
    "# plt.suptitle(\"Einsum\", size = 30)\n",
    "\n",
    "# plt.show()\n"
   ]
  },
  {
   "cell_type": "markdown",
   "metadata": {},
   "source": [
    "### Basic Matrices"
   ]
  },
  {
   "cell_type": "code",
   "execution_count": 2,
   "metadata": {},
   "outputs": [],
   "source": [
    "def rotMat(theta, inverse = False):\n",
    "    theta = torch.tensor(theta)\n",
    "    sin = torch.sin(theta)\n",
    "    cos = torch.cos(theta)\n",
    "    mat = torch.cat([cos.unsqueeze(1), sin.unsqueeze(1)*(-1), sin.unsqueeze(1), cos.unsqueeze(1)], dim = 1).reshape(-1,2,2) \n",
    "    if inverse:\n",
    "        return mat.inverse().float()\n",
    "    return mat.float()\n",
    "\n",
    "\n",
    "max_radius = 16\n",
    "min_radius = 0.5\n",
    "step_radius = 0.25\n",
    "num_radius = (max_radius - min_radius-1)/step_radius\n",
    "center_x = max_radius-1\n",
    "center_y = max_radius-1\n",
    "basis = torch.zeros(int(num_radius), 4, 31, 31, 2, 2)\n",
    "\n",
    "Ms = [torch.tensor([[1.,0.],[0.,0.]]), torch.tensor([[0.,1.],[0.,0.]]), torch.tensor([[0.,0.],[1.,0.]]), torch.tensor([[0.,0.],[0.,1.]])]\n",
    "for rad_id in range(1, int(num_radius)):\n",
    "    rad = (rad_id-1) * step_radius + min_radius \n",
    "    for i in range(len(Ms)):\n",
    "        for rr in np.linspace(rad - 0.25, rad + 0.25, 6):\n",
    "            theta = np.linspace(0, np.pi*2, int(500*rr//2))\n",
    "            x = (np.round(np.cos(theta)*rad)).astype(\"int32\") \n",
    "            y = (np.round(np.sin(theta)*rad)).astype(\"int32\")\n",
    "            id_x = center_x - y \n",
    "            id_y = center_y + x\n",
    "            out = torch.einsum(\"zac, zcd -> zad\", (torch.einsum(\"zab, bc->zac\", (rotMat(theta), Ms[i])), rotMat(theta, inverse = True)))\n",
    "            for j in range(len(x)):\n",
    "                basis[rad_id, i, id_x[j], id_y[j]] += out[j] \n",
    "                \n",
    "for i in range(len(Ms)):\n",
    "    basis[0, i, center_x, center_y] = 500*Ms[i]"
   ]
  },
  {
   "cell_type": "code",
   "execution_count": 3,
   "metadata": {},
   "outputs": [
    {
     "data": {
      "text/plain": [
       "torch.Size([58, 4, 31, 31, 2, 2])"
      ]
     },
     "execution_count": 3,
     "metadata": {},
     "output_type": "execute_result"
    }
   ],
   "source": [
    "basis.shape"
   ]
  },
  {
   "cell_type": "code",
   "execution_count": 4,
   "metadata": {},
   "outputs": [
    {
     "data": {
      "text/plain": [
       "<matplotlib.image.AxesImage at 0x2aab2c0a8f28>"
      ]
     },
     "execution_count": 4,
     "metadata": {},
     "output_type": "execute_result"
    },
    {
     "data": {
      "image/png": "[encoded data removed]",
      "text/plain": [
       "<Figure size 432x288 with 1 Axes>"
      ]
     },
     "metadata": {
      "needs_background": "light"
     },
     "output_type": "display_data"
    }
   ],
   "source": [
    "plt.imshow(basis[1,0,:,:,0,0])"
   ]
  },
  {
   "cell_type": "code",
   "execution_count": 5,
   "metadata": {},
   "outputs": [
    {
     "data": {
      "text/plain": [
       "tensor([[3.7050e+02, 2.5705e-06],\n",
       "        [2.5705e-06, 3.7650e+02]])"
      ]
     },
     "execution_count": 5,
     "metadata": {},
     "output_type": "execute_result"
    }
   ],
   "source": [
    "basis[1,3,15,15]"
   ]
  },
  {
   "cell_type": "code",
   "execution_count": 6,
   "metadata": {},
   "outputs": [
    {
     "data": {
      "text/plain": [
       "tensor([[ 3.7650e+02, -2.5705e-06],\n",
       "        [-2.5705e-06,  3.7050e+02]])"
      ]
     },
     "execution_count": 6,
     "metadata": {},
     "output_type": "execute_result"
    }
   ],
   "source": [
    "basis[1,0,15,15]"
   ]
  },
  {
   "cell_type": "code",
   "execution_count": 7,
   "metadata": {},
   "outputs": [],
   "source": [
    "torch.save(basis/500, \"kernel_basis.pt\")"
   ]
  },
  {
   "cell_type": "code",
   "execution_count": 8,
   "metadata": {},
   "outputs": [
    {
     "data": {
      "text/plain": [
       "(-2, 2)"
      ]
     },
     "execution_count": 8,
     "metadata": {},
     "output_type": "execute_result"
    },
    {
     "data": {
      "image/png": "[encoded data removed]",
      "text/plain": [
       "<Figure size 432x288 with 1 Axes>"
      ]
     },
     "metadata": {
      "needs_background": "light"
     },
     "output_type": "display_data"
    }
   ],
   "source": [
    "import matplotlib.pyplot as plt\n",
    "import numpy as np\n",
    "\n",
    "X, Y = np.meshgrid(np.arange(-1, 2, 1), np.arange(1, -2, -1))\n",
    "\n",
    "x_shape = X.shape\n",
    "\n",
    "U = basis[0,0,:,:,0,0]\n",
    "V = basis[0,0,:,:,1,0]\n",
    "\n",
    "U2 = basis[0,0,:,:,0,1]\n",
    "V2 = basis[0,0,:,:,1,1]\n",
    "\n",
    "fig, ax = plt.subplots()\n",
    "q = ax.quiver(X, Y, U, V, units='xy' ,scale=2, color='green')\n",
    "q = ax.quiver(X, Y, U2, V2, units='xy' ,scale=2, color='red')\n",
    "ax.set_aspect('equal')\n",
    "\n",
    "plt.xlim(-2,2)\n",
    "plt.ylim(-2,2)"
   ]
  },
  {
   "cell_type": "code",
   "execution_count": 9,
   "metadata": {},
   "outputs": [
    {
     "data": {
      "text/plain": [
       "(-2, 2)"
      ]
     },
     "execution_count": 9,
     "metadata": {},
     "output_type": "execute_result"
    },
    {
     "data": {
      "image/png": "[encoded data removed]",
      "text/plain": [
       "<Figure size 432x288 with 1 Axes>"
      ]
     },
     "metadata": {
      "needs_background": "light"
     },
     "output_type": "display_data"
    }
   ],
   "source": [
    "import matplotlib.pyplot as plt\n",
    "import numpy as np\n",
    "\n",
    "X, Y = np.meshgrid(np.arange(-1, 2, 1), np.arange(1, -2, -1))\n",
    "\n",
    "x_shape = X.shape\n",
    "\n",
    "U = basis[0,0,:,:,0,1]\n",
    "V = basis[0,0,:,:,1,1]\n",
    "\n",
    "def rotate_vec(img, degree):\n",
    "    #img shape 2*128*128\n",
    "    img = torch.tensor(img).float()\n",
    "    #2*2 2*1*128*128 -> 2*1*128*128\n",
    "    \n",
    "    theta = torch.tensor(degree/180*np.pi)\n",
    "    rot_m = torch.tensor([[torch.cos(theta), -torch.sin(theta)], [torch.sin(theta), torch.cos(theta)]])\n",
    "    img = torch.einsum(\"ab, bcde -> acde\",(rot_m, img.unsqueeze(1))).squeeze(1)\n",
    "    return img\n",
    "\n",
    "stack = np.stack([U,V])\n",
    "rot_U = rotate_vec(stack, 90)[0]\n",
    "rot_V = rotate_vec(stack, 90)[1]\n",
    "\n",
    "\n",
    "fig, ax = plt.subplots()\n",
    "q = ax.quiver(X, Y, U, V, units='xy' ,scale=2, color='red')\n",
    "\n",
    "ax.set_aspect('equal')\n",
    "\n",
    "plt.xlim(-2,2)\n",
    "plt.ylim(-2,2)"
   ]
  },
  {
   "cell_type": "code",
   "execution_count": 10,
   "metadata": {},
   "outputs": [
    {
     "name": "stdout",
     "output_type": "stream",
     "text": [
      "Basic Matrices Saved\n"
     ]
    }
   ],
   "source": [
    "torch.save(basis, \"kernel_basis.pt\")\n",
    "print(\"Basic Matrices Saved\")"
   ]
  },
  {
   "cell_type": "code",
   "execution_count": 11,
   "metadata": {},
   "outputs": [
    {
     "data": {
      "text/plain": [
       "<matplotlib.colorbar.Colorbar at 0x2aab2ccea2b0>"
      ]
     },
     "execution_count": 11,
     "metadata": {},
     "output_type": "execute_result"
    },
    {
     "data": {
      "image/png": "[encoded data removed]",
      "text/plain": [
       "<Figure size 432x288 with 2 Axes>"
      ]
     },
     "metadata": {
      "needs_background": "light"
     },
     "output_type": "display_data"
    }
   ],
   "source": [
    "basis = torch.load(\"kernel_basis.pt\")\n",
    "basis = torch.sum(basis, dim = 0).data.numpy()\n",
    "plt.imshow(basis[0,:,:,0,1])\n",
    "plt.colorbar()"
   ]
  },
  {
   "cell_type": "code",
   "execution_count": 130,
   "metadata": {},
   "outputs": [],
   "source": [
    "def rotMat(theta, inverse = False):\n",
    "    theta = torch.tensor(theta)\n",
    "    sin = torch.sin(theta)\n",
    "    cos = torch.cos(theta)\n",
    "    mat = torch.cat([cos.unsqueeze(1), sin.unsqueeze(1)*(-1), sin.unsqueeze(1), cos.unsqueeze(1)], dim = 1).reshape(-1,2,2) \n",
    "    if inverse:\n",
    "        return mat.inverse().float()\n",
    "    return mat.float()\n",
    "\n",
    "basis = torch.zeros(2, 4, 3, 3, 2, 2)\n",
    "Ms = [torch.tensor([[1.,0.],[0.,0.]]), torch.tensor([[0.,1.],[0.,0.]]), torch.tensor([[0.,0.],[1.,0.]]), torch.tensor([[0.,0.],[0.,1.]])]\n",
    "for rad in range(1, 2):\n",
    "    for i in range(len(Ms)):\n",
    "        for rr in np.linspace(rad - 0.25, rad + 0.25, 6):\n",
    "            theta = np.linspace(0, np.pi*2, int(500*rr//2))\n",
    "            x = (np.round(np.cos(theta)*rad)).astype(\"int32\") + 1\n",
    "            y = (np.round(np.sin(theta)*rad)).astype(\"int32\") + 1\n",
    "            out = torch.einsum(\"zac, zcd -> zad\", (torch.einsum(\"zab, bc->zac\", (rotMat(theta), Ms[i])), rotMat(theta, inverse = True)))\n",
    "            for j in range(len(x)):\n",
    "                basis[rad-1, i, x[j], y[j]] += out[j]     \n"
   ]
  },
  {
   "cell_type": "code",
   "execution_count": 131,
   "metadata": {},
   "outputs": [
    {
     "data": {
      "image/png": "[encoded data removed]",
      "text/plain": [
       "<Figure size 432x288 with 1 Axes>"
      ]
     },
     "metadata": {
      "needs_background": "light"
     },
     "output_type": "display_data"
    },
    {
     "data": {
      "image/png": "[encoded data removed]",
      "text/plain": [
       "<Figure size 432x288 with 1 Axes>"
      ]
     },
     "metadata": {
      "needs_background": "light"
     },
     "output_type": "display_data"
    },
    {
     "data": {
      "image/png": "[encoded data removed]",
      "text/plain": [
       "<Figure size 432x288 with 1 Axes>"
      ]
     },
     "metadata": {
      "needs_background": "light"
     },
     "output_type": "display_data"
    }
   ],
   "source": [
    "def rotate(img, degree):\n",
    "    #img shape 2*128*128\n",
    "    #2*2 2*1*128*128 -> 2*1*128*128\n",
    "    theta = torch.tensor(degree/180*np.pi)\n",
    "    rot_m = torch.tensor([[torch.cos(theta), -torch.sin(theta)], [torch.sin(theta), torch.cos(theta)]])\n",
    "    img = torch.einsum(\"ab, bcde -> acde\",(rot_m, img.unsqueeze(1))).squeeze(1)\n",
    "    mmin = torch.min(img)\n",
    "    mmax = torch.max(img)\n",
    "    img = normalize(img).data.numpy()\n",
    "    x = TTen(TF.rotate(Image.fromarray(np.uint8(img[0]*255)),degree, expand =  True))\n",
    "    y = TTen(TF.rotate(Image.fromarray(np.uint8(img[1]*255)),degree, expand =  True))\n",
    "    rot_img = torch.cat([x, y], dim = 0)\n",
    "    rot_img[rot_img!=0] = normalize(rot_img[rot_img!=0])\n",
    "    rot_img[rot_img!=0] = rot_img[rot_img!=0]*(mmax - mmin) + mmin\n",
    "    return rot_img\n",
    "\n",
    "def rotate_img(img, degree):\n",
    "    img = torch.tensor(img).float()\n",
    "    mmin = torch.min(img)\n",
    "    mmax = torch.max(img)\n",
    "    img = normalize(img).data.numpy()\n",
    "    x = TTen(TF.rotate(Image.fromarray(np.uint8(img[0]*255)),degree,expand =  True))\n",
    "    y = TTen(TF.rotate(Image.fromarray(np.uint8(img[1]*255)),degree,expand =  True))\n",
    "    rot_img = torch.cat([x, y], dim = 0)\n",
    "    #print(np.max(img), np.min(img), torch.max(rot_img), torch.min(rot_img))\n",
    "    rot_img = rot_img*(mmax - mmin) + mmin\n",
    "    return rot_img.cpu().data.numpy()\n",
    "\n",
    "def rotate_vec(img, degree):\n",
    "    #img shape 2*128*128\n",
    "    img = torch.tensor(img).float()\n",
    "    #2*2 2*1*128*128 -> 2*1*128*128\n",
    "    \n",
    "    theta = torch.tensor(degree/180*np.pi)\n",
    "    rot_m = torch.tensor([[torch.cos(theta), -torch.sin(theta)], [torch.sin(theta), torch.cos(theta)]])\n",
    "    img = torch.einsum(\"ab, bcde -> acde\",(rot_m, img.unsqueeze(1))).squeeze(1)\n",
    "    return img\n",
    "\n",
    "import matplotlib.pyplot as plt\n",
    "import numpy as np\n",
    "\n",
    "X, Y = np.meshgrid(np.arange(-1, 2, 1), np.arange(1, -2, -1))\n",
    "\n",
    "x_shape = X.shape\n",
    "\n",
    "U = np.ones(x_shape)\n",
    "V = np.zeros(x_shape)\n",
    "\n",
    "#for i in range(x_shape[0]):\n",
    " #   for j in range(x_shape[1]):\n",
    "       # U[i,j] = 1-i/10\n",
    "        #V[i,j] = np.sin(i/20*7)\n",
    "\n",
    "U[2,2] = 0\n",
    "V[2,2] = 1\n",
    "\n",
    "\n",
    "stack = np.stack([U,V])\n",
    "rot_U = rotate_vec(stack, 90)[0]\n",
    "rot_V = rotate_vec(stack, 90)[1]\n",
    "\n",
    "\n",
    "fig, ax = plt.subplots()\n",
    "q = ax.quiver(X, Y, U, V, units='xy' ,scale=2, color='red')\n",
    "\n",
    "ax.set_aspect('equal')\n",
    "\n",
    "plt.xlim(-2,2)\n",
    "plt.ylim(-2,2)\n",
    "\n",
    "\n",
    "fig, ax = plt.subplots()\n",
    "q = ax.quiver(X, Y, rot_U, rot_V, units='xy' ,scale=2, color='red')\n",
    "ax.set_aspect('equal')\n",
    "\n",
    "plt.xlim(-2,2)\n",
    "plt.ylim(-2,2)\n",
    "plt.show()\n",
    "\n",
    "stack = np.stack([rot_U,rot_V])\n",
    "rot_U2 = rotate_img(stack, 90)[0]\n",
    "rot_V2 = rotate_img(stack, 90)[1]\n",
    "fig, ax = plt.subplots()\n",
    "q = ax.quiver(X, Y, rot_U2, rot_V2, units='xy' ,scale=2, color='red')\n",
    "ax.set_aspect('equal')\n",
    "\n",
    "plt.xlim(-2,2)\n",
    "plt.ylim(-2,2)\n",
    "plt.show()"
   ]
  },
  {
   "cell_type": "code",
   "execution_count": 132,
   "metadata": {},
   "outputs": [],
   "source": [
    "class CNN(nn.Module):\n",
    "    def __init__(self, input_channels, output_channels, hidden_dim,  kernel_size, num_layers, activation = False, bias = True):\n",
    "        super(CNN, self).__init__()\n",
    "        self.layer = nn.Sequential(\n",
    "            nn.Conv2d(input_channels*2, hidden_dim, kernel_size = kernel_size, padding = (kernel_size-1)//2, bias = bias),\n",
    "            #nn.BatchNorm2d(hidden_dim),\n",
    "            nn.ReLU(),\n",
    "            nn.Conv2d(hidden_dim, hidden_dim, kernel_size = kernel_size, padding = (kernel_size-1)//2, bias = bias),\n",
    "            #nn.BatchNorm2d(hidden_dim),\n",
    "            nn.ReLU(),\n",
    "            nn.Conv2d(hidden_dim, hidden_dim, kernel_size = kernel_size, padding = (kernel_size-1)//2, bias = bias),\n",
    "            #nn.BatchNorm2d(hidden_dim),\n",
    "            nn.ReLU(),\n",
    "            nn.Conv2d(hidden_dim, hidden_dim, kernel_size = kernel_size, padding = (kernel_size-1)//2, bias = bias),\n",
    "            #nn.BatchNorm2d(hidden_dim),\n",
    "            nn.ReLU(),\n",
    "            nn.Conv2d(hidden_dim, output_channels*2, kernel_size = kernel_size, padding = (kernel_size-1)//2, bias = bias)\n",
    "        )\n",
    "        self.initial_params = self.layer[0].weight.clone()\n",
    "         \n",
    "        for m in self.modules():\n",
    "            if isinstance(m, nn.BatchNorm2d):\n",
    "                m.weight.data.fill_(1)\n",
    "                m.bias.data.zero_()\n",
    "                \n",
    "    def forward(self, xx):\n",
    "        xx = xx.reshape(xx.shape[0], -1, xx.shape[-2], xx.shape[-1])\n",
    "        out = self.layer(xx)\n",
    "        out = out.reshape(out.shape[0], out.shape[1]//2, 2, xx.shape[-2], xx.shape[-1])\n",
    "        return out"
   ]
  },
  {
   "cell_type": "code",
   "execution_count": null,
   "metadata": {},
   "outputs": [],
   "source": []
  }
 ],
 "metadata": {
  "kernelspec": {
   "display_name": "MyEnv",
   "language": "python",
   "name": "myenv"
  },
  "language_info": {
   "codemirror_mode": {
    "name": "ipython",
    "version": 3
   },
   "file_extension": ".py",
   "mimetype": "text/x-python",
   "name": "python",
   "nbconvert_exporter": "python",
   "pygments_lexer": "ipython3",
   "version": "3.6.10"
  }
 },
 "nbformat": 4,
 "nbformat_minor": 4
}
